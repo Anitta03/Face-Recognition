{
 "cells": [
  {
   "cell_type": "markdown",
   "id": "0b200da3",
   "metadata": {},
   "source": [
    "# Identifying Photographs of a person from a folder using face-recognition"
   ]
  },
  {
   "cell_type": "code",
   "execution_count": null,
   "id": "fa8909ff",
   "metadata": {},
   "outputs": [],
   "source": [
    "pip install face-recognition"
   ]
  },
  {
   "cell_type": "code",
   "execution_count": 1,
   "id": "c3c77c91",
   "metadata": {},
   "outputs": [],
   "source": [
    "import face_recognition\n",
    "import numpy as np"
   ]
  },
  {
   "cell_type": "code",
   "execution_count": 2,
   "id": "6031ded7",
   "metadata": {},
   "outputs": [],
   "source": [
    "# Load a sample picture and learn how to recognize it.\n",
    "image = face_recognition.load_image_file(\"Image Path\")\n",
    "image_face_encoding = face_recognition.face_encodings(image)[0]"
   ]
  },
  {
   "cell_type": "code",
   "execution_count": 11,
   "id": "0cfb9add",
   "metadata": {
    "scrolled": true
   },
   "outputs": [
    {
     "name": "stdout",
     "output_type": "stream",
     "text": [
      "['DEN07759.JPG', 'DEN07760.JPG', 'DEN07761.JPG', 'DEN07762.JPG', 'DEN07763.JPG', 'DEN07764.JPG', 'DEN07765.JPG', 'DEN07766.JPG', 'DEN07767.JPG', 'DEN07768.JPG', 'DEN07769.JPG', 'DEN07770.JPG', 'DEN07774.JPG', 'DEN07775.JPG', 'DEN07776.JPG', 'DEN07777.JPG', 'DEN07778.JPG', 'DEN07779.JPG', 'DEN07780.JPG', 'DEN07781.JPG', 'DEN07782.JPG', 'DEN07783.JPG', 'DEN07784.JPG', 'DEN07785.JPG', 'DEN07786.JPG', 'DEN07787.JPG', 'DEN07788.JPG', 'DEN07789.JPG', 'DEN07790.JPG', 'DEN07791.JPG', 'DEN07792.JPG', 'DEN07793.JPG', 'DEN07794.JPG', 'DEN07795.JPG', 'DEN07797.JPG', 'DEN07798.JPG', 'DEN07799.JPG', 'DEN07800.JPG', 'DEN07801.JPG', 'DEN07802.JPG', 'DEN07803.JPG', 'DEN07804.JPG', 'DEN07805.JPG', 'DEN07806.JPG', 'DEN07807.JPG', 'DEN07808.JPG', 'DEN07809.JPG', 'DEN07810.JPG', 'DEN07811.JPG', 'DEN07812.JPG', 'DEN07813.JPG', 'DEN07814.JPG', 'DEN07815.JPG', 'DEN07816.JPG', 'DEN07817.JPG', 'DEN07818.JPG', 'DEN07819.JPG', 'DEN07820.JPG', 'DEN07821.JPG', 'DEN07822.JPG', 'DEN07823.JPG', 'DEN07824.JPG', 'DEN07825.JPG', 'DEN07826.JPG', 'DEN07827.JPG', 'DEN07828.JPG', 'DEN07829.JPG', 'DEN07830.JPG', 'DEN07831.JPG', 'DEN07832.JPG', 'DEN07833.JPG', 'DEN07834.JPG', 'DEN07835.JPG', 'DEN07836.JPG', 'DEN07837.JPG', 'DEN07838.JPG', 'DEN07839.JPG', 'DEN07840.JPG', 'DEN07841.JPG', 'DEN07842.JPG', 'DEN07843.JPG', 'DEN07844.JPG', 'DEN07845.JPG', 'DEN07846.JPG', 'DEN07847.JPG', 'DEN07848.JPG', 'DEN07849.JPG', 'DEN07850.JPG', 'DEN07851.JPG', 'DEN07852.JPG', 'DEN07853.JPG', 'DEN07854.JPG', 'DEN07855.JPG', 'DEN07856.JPG', 'DEN07857.JPG', 'DEN07858.JPG', 'DEN07859.JPG', 'DEN07860.JPG', 'DEN07861.JPG', 'DEN07862.JPG', 'DEN07863.JPG', 'DEN07864.JPG', 'DEN07865.JPG', 'DEN07866.JPG', 'DEN07867.JPG', 'DEN07868.JPG', 'DEN07869.JPG', 'DEN07870.JPG', 'DEN07871.JPG', 'DEN07872.JPG', 'DEN07873.JPG', 'DEN07874.JPG', 'DEN07875.JPG', 'DEN07876.JPG', 'DEN07877.JPG', 'DEN07880.JPG', 'DEN07881.JPG', 'DEN07882.JPG', 'DEN07883.JPG', 'DEN07884.JPG', 'DEN07885.JPG', 'DEN07886.JPG', 'DEN07887.JPG', 'DEN07888.JPG', 'DEN07889.JPG', 'DEN07890.JPG', 'DEN07891.JPG', 'DEN07892.JPG', 'DEN07893.JPG', 'DEN07894.JPG', 'DEN07895.JPG', 'DEN07896.JPG', 'DEN07898.JPG', 'DEN07899.JPG', 'DEN07900.JPG', 'DEN07901.JPG', 'DEN07902.JPG', 'DEN07903.JPG', 'DEN07905.JPG', 'DEN07906.JPG', 'DEN07908.JPG', 'DEN07909.JPG', 'DEN07910.JPG', 'DEN07911.JPG', 'DEN07912.JPG', 'DEN07914.JPG', 'DEN07915.JPG', 'DEN07916.JPG', 'DEN07919.JPG', 'DEN07920.JPG', 'DEN07921.JPG', 'DEN07922.JPG', 'DEN07923.JPG', 'DEN07924.JPG', 'DEN07925.JPG', 'DEN07926.JPG', 'DEN07927.JPG', 'DEN07928.JPG', 'DEN07929.JPG', 'DEN07930.JPG', 'DEN07932.JPG', 'DEN07933.JPG', 'DEN07934.JPG', 'DEN07935.JPG', 'DEN07936.JPG', 'DEN07937.JPG', 'DEN07938.JPG', 'DEN07939.JPG', 'DEN07940.JPG', 'DEN07941.JPG', 'DEN07942.JPG', 'DEN07943.JPG', 'DEN07944.JPG', 'DEN07945.JPG', 'DEN07946.JPG', 'DEN07947.JPG', 'DEN07949.JPG', 'DEN07950.JPG', 'DEN07951.JPG', 'DEN07952.JPG', 'DEN07953.JPG', 'DEN07954.JPG', 'DEN07955.JPG', 'DEN07956.JPG', 'DEN07957.JPG', 'DEN07958.JPG', 'DEN07960.JPG', 'DEN07961.JPG', 'DEN07962.JPG', 'DEN07964.JPG', 'DEN07965.JPG', 'DEN07966.JPG', 'DEN07967.JPG', 'DEN07968.JPG', 'DEN07969.JPG', 'DEN07970.JPG', 'DEN07971.JPG', 'DEN07972.JPG', 'DEN07973.JPG', 'DEN07974.JPG', 'DEN07975.JPG', 'DEN07976.JPG', 'DEN07977.JPG', 'DEN07978.JPG', 'DEN07979.JPG', 'DEN07980.JPG', 'DEN07981.JPG', 'DEN07982.JPG', 'DEN07983.JPG', 'DEN07984.JPG', 'DEN07985.JPG', 'DEN07986.JPG', 'DEN07987.JPG', 'DEN07988.JPG', 'DEN07989.JPG', 'DEN07990.JPG', 'DEN07991.JPG', 'DEN07992.JPG', 'DEN07994.JPG', 'DEN07996.JPG', 'DEN07997.JPG', 'DEN07998.JPG', 'DEN07999.JPG', 'DEN08000.JPG', 'DEN08001.JPG', 'DEN08002.JPG', 'DEN08003.JPG', 'DEN08004.JPG', 'DEN08005.JPG', 'DEN08006.JPG', 'DEN08007.JPG', 'DEN08008.JPG', 'DEN08010.JPG', 'DEN08011.JPG', 'DEN08012.JPG', 'DEN08013.JPG', 'DEN08014.JPG', 'DEN08015.JPG', 'DEN08016.JPG', 'DEN08017.JPG', 'DEN08020.JPG', 'DEN08021.JPG', 'DEN08022.JPG', 'DEN08023.JPG', 'DEN08024.JPG', 'DEN08025.JPG', 'DEN08026.JPG', 'DEN08027.JPG', 'DEN08028.JPG', 'DEN08029.JPG', 'DEN08030.JPG', 'DEN08031.JPG', 'DEN08032.JPG', 'DEN08033.JPG', 'DEN08034.JPG', 'DEN08035.JPG', 'DEN08036.JPG', 'DEN08037.JPG', 'DEN08038.JPG', 'DEN08039.JPG', 'DEN08040.JPG', 'DEN08041.JPG', 'DEN08042.JPG', 'DEN08043.JPG', 'DEN08044.JPG', 'DEN08045.JPG', 'DEN08046.JPG', 'DEN08047.JPG', 'DEN08048.JPG', 'DEN08049.JPG', 'DEN08050.JPG', 'DEN08051.JPG', 'DEN08052.JPG', 'DEN08053.JPG', 'DEN08054.JPG', 'DEN08055.JPG', 'DEN08056.JPG', 'DEN08057.JPG', 'DEN08058.JPG', 'DEN08059.JPG', 'DEN08060.JPG', 'DEN08061.JPG', 'DEN08062.JPG', 'DEN08063.JPG', 'DEN08064.JPG', 'DEN08065.JPG', 'DEN08066.JPG', 'DEN08067.JPG', 'DEN08068.JPG', 'DEN08069.JPG', 'DEN08070.JPG', 'DEN08071.JPG', 'DEN08072.JPG', 'DEN08073.JPG', 'DEN08074.JPG', 'DEN08075.JPG', 'DEN08076.JPG', 'DEN08077.JPG', 'DEN08078.JPG', 'DEN08080.JPG', 'DEN08081.JPG', 'DEN08082.JPG', 'DEN08083.JPG']\n"
     ]
    }
   ],
   "source": [
    "# Looping through a directory\n",
    "import os\n",
    "from os import listdir\n",
    "my_list = []\n",
    "\n",
    "# get the path/directory\n",
    "folder_dir = \"Directory Path\"\n",
    "for images in os.listdir(folder_dir):\n",
    "    my_list.append(images)\n",
    "\n",
    "print(my_list)"
   ]
  },
  {
   "cell_type": "code",
   "execution_count": 12,
   "id": "af4deca9",
   "metadata": {},
   "outputs": [],
   "source": [
    "from PIL import Image\n",
    "import matplotlib.pyplot as plt"
   ]
  },
  {
   "cell_type": "markdown",
   "id": "1ef6c2b8",
   "metadata": {},
   "source": [
    "# Looping through the folder to get Photagraphs matched with given Image"
   ]
  },
  {
   "cell_type": "code",
   "execution_count": null,
   "id": "8d7a940a",
   "metadata": {},
   "outputs": [],
   "source": [
    "# Matching Images\n",
    "i = 0\n",
    "# Iterating using while loop\n",
    "while i < len(my_list):\n",
    "    image1 = folder_dir + \"/\" + my_list[i]\n",
    "    \n",
    "    new_image = face_recognition.load_image_file(image1)\n",
    "    im = Image.fromarray(np.uint8(new_image)).convert('RGB')\n",
    "    degree_flippedImage = im.transpose(Image.ROTATE_90)\n",
    "    degree_flippedImage = np.array(degree_flippedImage)\n",
    "    face_locations = face_recognition.face_locations(degree_flippedImage)\n",
    "    if face_locations != []:\n",
    "        face_encodings = face_recognition.face_encodings(degree_flippedImage, face_locations)\n",
    "        matches = face_recognition.compare_faces(image_face_encoding, face_encodings)\n",
    "        for row in matches:\n",
    "          if row:\n",
    "            print(image1)   \n",
    "    i += 1"
   ]
  },
  {
   "cell_type": "code",
   "execution_count": null,
   "id": "3023bcbd",
   "metadata": {},
   "outputs": [],
   "source": []
  }
 ],
 "metadata": {
  "kernelspec": {
   "display_name": "Python 3 (ipykernel)",
   "language": "python",
   "name": "python3"
  },
  "language_info": {
   "codemirror_mode": {
    "name": "ipython",
    "version": 3
   },
   "file_extension": ".py",
   "mimetype": "text/x-python",
   "name": "python",
   "nbconvert_exporter": "python",
   "pygments_lexer": "ipython3",
   "version": "3.9.7"
  }
 },
 "nbformat": 4,
 "nbformat_minor": 5
}
